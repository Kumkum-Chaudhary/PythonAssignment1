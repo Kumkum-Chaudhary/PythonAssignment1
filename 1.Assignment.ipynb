{
 "cells": [
  {
   "cell_type": "markdown",
   "id": "8d3d9a0a-d03e-4622-ac32-db783dd41754",
   "metadata": {},
   "source": [
    "ASSIGNMENT - 1 (Python Basics)"
   ]
  },
  {
   "cell_type": "markdown",
   "id": "1c65f635-ca5f-450d-8d15-45891193f679",
   "metadata": {},
   "source": [
    "1. Explain the key features of Python that take it a popular choice for programming."
   ]
  },
  {
   "cell_type": "raw",
   "id": "16c1a026-566b-4682-9602-8e2547da9411",
   "metadata": {},
   "source": [
    "Ans:\n",
    "    There are various features to make python a popular choice :-\n",
    "    * It is very simple and easy to learn.\n",
    "    * It provide a lot of number of liberaries , more than 3 lakh.\n",
    "    * It is widely used in Data industry.\n",
    "    * It has huge active community.\n",
    "    * It connects to multiple tools."
   ]
  },
  {
   "cell_type": "markdown",
   "id": "70bfc02a-f65b-42c2-a28f-d794e7db64f6",
   "metadata": {},
   "source": [
    "2. Describe the role of predefined keywords in Python and provide examples of how they are used in a programing."
   ]
  },
  {
   "cell_type": "raw",
   "id": "9d3c60f7-8144-408e-b934-d85831deabdf",
   "metadata": {},
   "source": [
    "Ans:\n",
    "    Role of predefined keywords with examples:\n",
    "    1. Keyword define the structure and syntax of python code."
   ]
  },
  {
   "cell_type": "code",
   "execution_count": 8,
   "id": "dc41c68f-bace-4e04-a3ab-35fadd77259c",
   "metadata": {},
   "outputs": [
    {
     "data": {
      "text/plain": [
       "7"
      ]
     },
     "execution_count": 8,
     "metadata": {},
     "output_type": "execute_result"
    }
   ],
   "source": [
    "#explain\n",
    "def add_number():\n",
    "    return 2+5\n",
    "add_number()"
   ]
  },
  {
   "cell_type": "raw",
   "id": "fb235c45-9039-4bdd-8248-804983c92052",
   "metadata": {},
   "source": [
    "    2. Keyword control the flow of Python program. They dictate how the program executes and what path it takes\n",
    "       example -> if, elif, else, for, while etc"
   ]
  },
  {
   "cell_type": "code",
   "execution_count": 1,
   "id": "3e326c88-a7a2-4bac-bac3-d7ab06a5b09c",
   "metadata": {},
   "outputs": [
    {
     "name": "stdout",
     "output_type": "stream",
     "text": [
      "positive\n"
     ]
    }
   ],
   "source": [
    "#example\n",
    "num = 6\n",
    "if num > 0:\n",
    "    print(\"positive\")\n",
    "elif num == 0:\n",
    "    print(\"zero\")\n",
    "else:\n",
    "    print(\"negative\")"
   ]
  },
  {
   "cell_type": "raw",
   "id": "49229316-d0cc-464b-9818-b10861e5467e",
   "metadata": {},
   "source": [
    "    3. Keywords also define basic data structures like set, dict, list."
   ]
  },
  {
   "cell_type": "code",
   "execution_count": 2,
   "id": "cb048447-c86b-4c0b-a0b7-278a6506bb19",
   "metadata": {},
   "outputs": [
    {
     "data": {
      "text/plain": [
       "[1, 3, 'hi', True]"
      ]
     },
     "execution_count": 2,
     "metadata": {},
     "output_type": "execute_result"
    }
   ],
   "source": [
    "#example\n",
    "li = [1,3,'hi', True]\n",
    "li"
   ]
  },
  {
   "cell_type": "markdown",
   "id": "1ded9c86-7fb6-4560-acb5-1af8955eda14",
   "metadata": {},
   "source": [
    "3. Compare and contrast mutable and immutable objects in Python with examples"
   ]
  },
  {
   "cell_type": "raw",
   "id": "de435bc3-7ba1-47bb-a60c-ef3ee87ffe24",
   "metadata": {},
   "source": [
    "Aspect                           MUTABLE                                                       IMMUTABLE\n",
    "\n",
    "Defination                    Can be changed after creation                              Can't be changed after creation\n",
    "Examples                      List, dictionaries, sets, user-defined objects             String,Integer, float, tuples\n",
    "Memory Management             modification occur in place, no new object created         modification creates new object, original remains same\n",
    "Use case                      address, phone number etc                                  adhar details, pancard details etc\n",
    "Performance                   efficient for frequent modifications                       less efficient due to object creation,but good for integrity"
   ]
  },
  {
   "cell_type": "code",
   "execution_count": 3,
   "id": "a44e6fa4-a838-4700-806e-c238c071e43d",
   "metadata": {},
   "outputs": [
    {
     "data": {
      "text/plain": [
       "[1, 3.6, 55, 'hii']"
      ]
     },
     "execution_count": 3,
     "metadata": {},
     "output_type": "execute_result"
    }
   ],
   "source": [
    "#example of mutable -> list\n",
    "li = [1,3.6, True, 'hii']\n",
    "li[2] = 55\n",
    "li"
   ]
  },
  {
   "cell_type": "code",
   "execution_count": 21,
   "id": "8fdca9ca-c763-44a4-9ea4-901233932c5e",
   "metadata": {},
   "outputs": [
    {
     "data": {
      "text/plain": [
       "'I am a student'"
      ]
     },
     "execution_count": 21,
     "metadata": {},
     "output_type": "execute_result"
    }
   ],
   "source": [
    "#example of immutable -> string\n",
    "s = \"I am a student\"\n",
    "#s[2] = 'k' #error\n",
    "s"
   ]
  },
  {
   "cell_type": "markdown",
   "id": "00b42dc0-09ef-49c4-8b96-1a3423cffbe5",
   "metadata": {},
   "source": [
    "  4. Discuss the different types of operators in Python and provide examples of how they are used"
   ]
  },
  {
   "cell_type": "code",
   "execution_count": 3,
   "id": "c924d07f-bc3a-4254-b06d-363381e9ac50",
   "metadata": {},
   "outputs": [
    {
     "name": "stdout",
     "output_type": "stream",
     "text": [
      "8\n",
      "2\n",
      "15\n",
      "1.6666666666666667\n",
      "1\n",
      "2\n"
     ]
    }
   ],
   "source": [
    "#ANS\n",
    "    # 1. ARITHMETIC OPERATOR -> these perform basic calculations like addition,substraction,multipliction,division,remainder(%) etc\n",
    "a = 5\n",
    "b = 3\n",
    "print(a+b)\n",
    "print(a-b)\n",
    "print(a*b)\n",
    "print(a/b)\n",
    "print(a//b)  #floor division\n",
    "print(a%b)"
   ]
  },
  {
   "cell_type": "code",
   "execution_count": 4,
   "id": "83b8cb39-60c0-40e1-b5e6-485cc1ab884f",
   "metadata": {},
   "outputs": [
    {
     "name": "stdout",
     "output_type": "stream",
     "text": [
      "True\n",
      "False\n",
      "True\n",
      "False\n",
      "False\n",
      "True\n"
     ]
    }
   ],
   "source": [
    "  # 2. COMPARISON OPERATORS -> used to compare two values likes greaterthan, lessthan, equality, etc\n",
    "a = 5\n",
    "b = 7\n",
    "print(b>a)\n",
    "print(b<a)\n",
    "print(b>=a)\n",
    "print(b<=a)\n",
    "print(b==a)\n",
    "print(b!=a)"
   ]
  },
  {
   "cell_type": "code",
   "execution_count": 6,
   "id": "ca60a1d3-86f4-4896-911f-01502114acbc",
   "metadata": {},
   "outputs": [
    {
     "name": "stdout",
     "output_type": "stream",
     "text": [
      "False\n",
      "True\n",
      "True\n"
     ]
    }
   ],
   "source": [
    "   # 3. LOGICIAL OPERATOR -> logic and, or , not\n",
    "print(True and False)\n",
    "print(True or False)\n",
    "print(not False)"
   ]
  },
  {
   "cell_type": "code",
   "execution_count": 8,
   "id": "a308ade2-fac2-4048-b31a-2b5bcb6f69a2",
   "metadata": {},
   "outputs": [
    {
     "name": "stdout",
     "output_type": "stream",
     "text": [
      "False\n",
      "True\n"
     ]
    }
   ],
   "source": [
    "   # 4. IDENTITY OPERATOR -> compare location of two objects/variables like is , is not\n",
    "a = 5\n",
    "b = 4\n",
    "print(a is b)\n",
    "print(a is not b)"
   ]
  },
  {
   "cell_type": "code",
   "execution_count": 12,
   "id": "c0de6637-bf1d-4536-b7f0-aa2ab6db0270",
   "metadata": {},
   "outputs": [
    {
     "name": "stdout",
     "output_type": "stream",
     "text": [
      "True\n",
      "False\n"
     ]
    }
   ],
   "source": [
    "    # 5. membership operator -> tells member present in list or not like in or not in\n",
    "s = 'pwskills'\n",
    "print('s' in s)\n",
    "print('s' not in s)"
   ]
  },
  {
   "cell_type": "code",
   "execution_count": 13,
   "id": "f2d05079-b2c8-42e8-bcd4-7e06b31d6a0c",
   "metadata": {},
   "outputs": [],
   "source": [
    "    # 6. Assignment operator -> assign value to a variable\n",
    "a = 5\n",
    "b = 7"
   ]
  },
  {
   "cell_type": "code",
   "execution_count": 14,
   "id": "63b1c75a-d847-4f5b-b157-7d34638a4554",
   "metadata": {},
   "outputs": [
    {
     "data": {
      "text/plain": [
       "10"
      ]
     },
     "execution_count": 14,
     "metadata": {},
     "output_type": "execute_result"
    }
   ],
   "source": [
    "   # 7. bitwise operator -> operations at bit level, manipulating individuals bits\n",
    "10 & 10 #& is bitwise operator"
   ]
  },
  {
   "cell_type": "code",
   "execution_count": 15,
   "id": "00addb79-5c92-488f-a485-e6eddda57e6e",
   "metadata": {},
   "outputs": [
    {
     "data": {
      "text/plain": [
       "7"
      ]
     },
     "execution_count": 15,
     "metadata": {},
     "output_type": "execute_result"
    }
   ],
   "source": [
    "3 | 5"
   ]
  },
  {
   "cell_type": "markdown",
   "id": "49822772-4590-4789-91b8-96c157af48a1",
   "metadata": {},
   "source": [
    "5.  Explain the concept of type casting in Python with examples."
   ]
  },
  {
   "cell_type": "raw",
   "id": "cf1d073e-d841-4b00-88f4-35a069c1b14c",
   "metadata": {},
   "source": [
    "Type casting/conversion -> process of changing data type of a value/object,\n",
    "Type casting or type conversion in Python refers to the process of converting one data type into another. \n",
    "Python provides built-in functions to perform type casting, allowing you to convert data between different types explicitly. "
   ]
  },
  {
   "cell_type": "raw",
   "id": "2a0abb1f-3cbf-4634-ae87-2857117358b6",
   "metadata": {},
   "source": [
    "1. IMPLICIT TYPECASTING -> Python automatically converts one data type to another without any explicit instruction from the user.\n",
    "This usually happens in operations involving mixed types (e.g., an integer with a float)."
   ]
  },
  {
   "cell_type": "code",
   "execution_count": 16,
   "id": "ffddfeac-32ff-48a6-9528-c0e9f50c5cb8",
   "metadata": {},
   "outputs": [
    {
     "name": "stdout",
     "output_type": "stream",
     "text": [
      "8.4\n"
     ]
    }
   ],
   "source": [
    "#Example\n",
    "a = 5\n",
    "b = 3.4\n",
    "print(a+b)"
   ]
  },
  {
   "cell_type": "raw",
   "id": "1ca4c003-d6ed-4cbe-afb4-01daf7b32fc2",
   "metadata": {},
   "source": [
    "2. EXPLICIT TYPECASTING -> In explicit type conversion, also known as type casting,\n",
    "the user manually converts one data type into another using Python's built-in functions.\n",
    "The built-in functions are int(), float(), str(), dict(), etc"
   ]
  },
  {
   "cell_type": "code",
   "execution_count": 17,
   "id": "25200baa-2ee0-4b3c-8662-e96febffa18e",
   "metadata": {},
   "outputs": [
    {
     "name": "stdout",
     "output_type": "stream",
     "text": [
      "90\n"
     ]
    }
   ],
   "source": [
    "#Example\n",
    "a = '89'\n",
    "b = 1\n",
    "print(int(a) + b)"
   ]
  },
  {
   "cell_type": "markdown",
   "id": "6e297025-1ee1-45bf-a2ab-079e23974d9a",
   "metadata": {},
   "source": [
    " 6.  How do conditional statements work in Python? Illustrate with examples"
   ]
  },
  {
   "cell_type": "raw",
   "id": "fd3879f2-6a57-4536-ac81-505d75f3fc00",
   "metadata": {},
   "source": [
    "Conditional statements in Python allow to execute certain blocks of code based on specific conditions. \n",
    "These conditions are typically boolean expressions that evaluate to True or False. \n",
    "The primary conditional statements in Python are if, elif, and else."
   ]
  },
  {
   "cell_type": "raw",
   "id": "9a322234-43a8-4ce6-bd44-ef4037c8a876",
   "metadata": {},
   "source": [
    "1. if -> The if statement is used to test a condition. If the condition is True, the block of code under the if statement is executed.\n",
    "2. elif -> executes if the condition in 'if' is False and it's True\n",
    "3. else -> executes when no condition get matched"
   ]
  },
  {
   "cell_type": "code",
   "execution_count": 18,
   "id": "7778aa9d-ddab-443a-b6aa-0bfcd8a24837",
   "metadata": {},
   "outputs": [
    {
     "name": "stdout",
     "output_type": "stream",
     "text": [
      "It's cool.\n"
     ]
    }
   ],
   "source": [
    "# Example\n",
    "temperature = 20\n",
    "if temperature > 30:\n",
    "    print(\"It's very hot!\")\n",
    "elif temperature > 20:\n",
    "    print(\"It's warm.\")\n",
    "elif temperature > 10:\n",
    "    print(\"It's cool.\")\n",
    "else:\n",
    "    print(\"It's cold!\")"
   ]
  },
  {
   "cell_type": "markdown",
   "id": "b9c400c0-8b3f-42b6-bc38-29b2ee8d3a1c",
   "metadata": {},
   "source": [
    "  7.  Describe the different types of loops in Python and their use cases with examples"
   ]
  },
  {
   "cell_type": "raw",
   "id": "deb16ce4-f2cc-465d-b69a-f52c99e9d832",
   "metadata": {},
   "source": [
    "Python provides several looping constructs that allow to execute a block of code multiple times. \n",
    "The primary types of loops in Python are for loops and while loops"
   ]
  },
  {
   "cell_type": "raw",
   "id": "31d58456-b5ed-4b27-a663-c6fe8dc74177",
   "metadata": {},
   "source": [
    "1. FOR LOOP -> The for loop is used to iterate over a sequence (such as a list, tuple, string, or range) or any other iterable object. \n",
    "It executes a block of code once for each item in the sequence.\n",
    "Use Cases: Use a for loop when you know the number of iterations beforehand or when you need to iterate over elements in a sequence."
   ]
  },
  {
   "cell_type": "code",
   "execution_count": 19,
   "id": "4901a9b3-d002-4c9b-af4f-1fe03fe9278d",
   "metadata": {},
   "outputs": [
    {
     "name": "stdout",
     "output_type": "stream",
     "text": [
      "apple\n",
      "banana\n",
      "cherry\n"
     ]
    }
   ],
   "source": [
    "#Example\n",
    "fruits = [\"apple\", \"banana\", \"cherry\"]\n",
    "for fruit in fruits:\n",
    "    print(fruit)"
   ]
  },
  {
   "cell_type": "raw",
   "id": "b0eaf507-3092-44b8-bb8d-0180ff04fcb7",
   "metadata": {},
   "source": [
    "2. WHILE LOOP ->  The while loop repeatedly executes a block of code as long as a specified condition is True. \n",
    "The loop will stop executing as soon as the condition becomes False.\n",
    "Use Cases: Use a while loop when the number of iterations is not known beforehand and depends on a condition that may change during execution."
   ]
  },
  {
   "cell_type": "code",
   "execution_count": 20,
   "id": "77de0d21-99b0-456b-a7a5-d58c55dc6394",
   "metadata": {},
   "outputs": [
    {
     "name": "stdout",
     "output_type": "stream",
     "text": [
      "Count is: 0\n",
      "Count is: 1\n",
      "Count is: 2\n",
      "Count is: 3\n",
      "Count is: 4\n"
     ]
    }
   ],
   "source": [
    "#Examples\n",
    "count = 0\n",
    "while count < 5:\n",
    "    print(\"Count is:\", count)\n",
    "    count += 1"
   ]
  },
  {
   "cell_type": "code",
   "execution_count": null,
   "id": "414c0102-bcdd-4277-b877-8ffb2cf92ba7",
   "metadata": {},
   "outputs": [],
   "source": []
  }
 ],
 "metadata": {
  "kernelspec": {
   "display_name": "Python 3 (ipykernel)",
   "language": "python",
   "name": "python3"
  },
  "language_info": {
   "codemirror_mode": {
    "name": "ipython",
    "version": 3
   },
   "file_extension": ".py",
   "mimetype": "text/x-python",
   "name": "python",
   "nbconvert_exporter": "python",
   "pygments_lexer": "ipython3",
   "version": "3.10.8"
  }
 },
 "nbformat": 4,
 "nbformat_minor": 5
}
