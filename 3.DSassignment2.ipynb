{
 "cells": [
  {
   "cell_type": "raw",
   "id": "f18600b2-2280-4974-bf25-26c4c7d46950",
   "metadata": {},
   "source": [
    "1. To reverse a string"
   ]
  },
  {
   "cell_type": "code",
   "execution_count": 2,
   "id": "a66cb092-82a3-44e1-91e4-2fca9df70cfd",
   "metadata": {},
   "outputs": [
    {
     "name": "stdout",
     "output_type": "stream",
     "text": [
      "sllikswp\n"
     ]
    }
   ],
   "source": [
    "s = \"pwskills\"\n",
    "print(s[::-1])"
   ]
  },
  {
   "cell_type": "raw",
   "id": "ea3099f8-57cf-4759-af1b-da354ed0b9de",
   "metadata": {},
   "source": [
    "2. count number of vowels in a string"
   ]
  },
  {
   "cell_type": "code",
   "execution_count": 7,
   "id": "98f424ec-d28c-4776-a6f4-81fceb0853c8",
   "metadata": {},
   "outputs": [
    {
     "name": "stdout",
     "output_type": "stream",
     "text": [
      "13\n"
     ]
    }
   ],
   "source": [
    "def count_Vowels(s):\n",
    "    vowels = 'aeiouAEIOU'\n",
    "    count = 0\n",
    "    for char in s:\n",
    "        if char in vowels:\n",
    "            count = count + 1\n",
    "    return count\n",
    "\n",
    "s = \"data science with generative ai\"\n",
    "print(count_Vowels(s))"
   ]
  },
  {
   "cell_type": "raw",
   "id": "82b8f89f-958a-4791-8b00-7c4136a9edeb",
   "metadata": {},
   "source": [
    "3. check pallindrome or not"
   ]
  },
  {
   "cell_type": "code",
   "execution_count": 17,
   "id": "dadb53d3-160b-48f4-ab2d-c27ee0489ef8",
   "metadata": {},
   "outputs": [
    {
     "name": "stdout",
     "output_type": "stream",
     "text": [
      "True\n",
      "False\n"
     ]
    }
   ],
   "source": [
    "def check_pallindrome(s):\n",
    "    k = \"\"\n",
    "    j = -1\n",
    "    for i in s:\n",
    "        k = k + s[j]\n",
    "        j = j-1\n",
    "    if k==s:\n",
    "        return True\n",
    "    else:\n",
    "        return False\n",
    "print(check_pallindrome(\"abbaaabba\"))\n",
    "print(check_pallindrome(\"abbabaabba\"))"
   ]
  },
  {
   "cell_type": "raw",
   "id": "4fda4025-1935-47b5-91bb-42eaa21338b1",
   "metadata": {},
   "source": [
    "4. two given strings are anagram or not"
   ]
  },
  {
   "cell_type": "code",
   "execution_count": null,
   "id": "80b6bee9-b8c6-4ece-a30c-599170c43748",
   "metadata": {},
   "outputs": [
    {
     "name": "stdin",
     "output_type": "stream",
     "text": [
      "enter first string :  listen\n",
      "enter second string :  silent\n"
     ]
    },
    {
     "name": "stdout",
     "output_type": "stream",
     "text": [
      "True\n"
     ]
    }
   ],
   "source": [
    "def check_anagram(s1, s2):\n",
    "    s1 = s1.replace(\" \",\"\").lower()\n",
    "    s1 = s2.replace(\" \",\"\").lower()\n",
    "    s1 = ''.join(sorted(s1))\n",
    "    s2 = ''.join(sorted(s2))\n",
    "    if s1 == s2:\n",
    "        return True\n",
    "    else:\n",
    "        return False\n",
    "    \n",
    "a = input(\"enter first string : \")\n",
    "b = input(\"enter second string : \")\n",
    "print(check_anagram(a,b))"
   ]
  },
  {
   "cell_type": "raw",
   "id": "4cf139c4-dd75-4641-a9c2-77127a8949dd",
   "metadata": {},
   "source": [
    "5. write a code to find all the occurances of a given substring within another string"
   ]
  },
  {
   "cell_type": "code",
   "execution_count": 25,
   "id": "aff8cb01-6182-45da-aed1-df577384bf1e",
   "metadata": {},
   "outputs": [
    {
     "name": "stdout",
     "output_type": "stream",
     "text": [
      "The substring 'test' is found at the following positions: [10, 16, 32]\n"
     ]
    }
   ],
   "source": [
    "def find_all_occurrences(main_string, sub_string):\n",
    "    occurrences = []\n",
    "    start = 0    \n",
    "    while True:\n",
    "        start = main_string.find(sub_string, start)\n",
    "        if start == -1:\n",
    "            break\n",
    "        occurrences.append(start)\n",
    "        start += 1\n",
    "\n",
    "    return occurrences\n",
    "\n",
    "main_string = \"This is a test. Testing is fun. Test your skills.\"\n",
    "sub_string = \"test\"\n",
    "\n",
    "occurrences = find_all_occurrences(main_string.lower(), sub_string.lower())\n",
    "\n",
    "if occurrences:\n",
    "    print(f\"The substring '{sub_string}' is found at the following positions: {occurrences}\")\n",
    "else:\n",
    "    print(f\"The substring '{sub_string}' is not found in the main string.\")\n",
    " "
   ]
  },
  {
   "cell_type": "raw",
   "id": "eb9ed8eb-7d75-41a6-9b85-a06e328dc107",
   "metadata": {},
   "source": [
    "6. Code to perform basic string compression using the counts of repeated characters."
   ]
  },
  {
   "cell_type": "code",
   "execution_count": 7,
   "id": "955357dc-9a5e-4f69-b8d9-3772d242567e",
   "metadata": {},
   "outputs": [
    {
     "name": "stdout",
     "output_type": "stream",
     "text": [
      "a4b4c4a3\n"
     ]
    }
   ],
   "source": [
    "def compress_string(s):\n",
    "    compressed = []\n",
    "    count = 1\n",
    "\n",
    "    for i in range(1, len(s)):\n",
    "        if s[i] == s[i - 1]:\n",
    "            count += 1\n",
    "        else:\n",
    "            compressed.append(s[i - 1] + str(count))\n",
    "            count = 1\n",
    "\n",
    "    compressed.append(s[-1] + str(count))  \n",
    "\n",
    "    compressed_string = ''.join(compressed)\n",
    "    return compressed_string if len(compressed_string) < len(s) else s\n",
    "\n",
    "input_string = \"aaaabbbbccccaaa\"\n",
    "compressed_string = compress_string(input_string)\n",
    "print(compressed_string) "
   ]
  },
  {
   "cell_type": "raw",
   "id": "4f378e86-0a77-41c9-86a2-45dca181ea7f",
   "metadata": {},
   "source": [
    "7. Write a code to define whether a string has all unique character or not"
   ]
  },
  {
   "cell_type": "code",
   "execution_count": 8,
   "id": "013912a4-f10e-4748-a6a5-f183f2456927",
   "metadata": {},
   "outputs": [
    {
     "name": "stdout",
     "output_type": "stream",
     "text": [
      "Does 'hello' have all unique characters? False\n",
      "Does 'world' have all unique characters? True\n"
     ]
    }
   ],
   "source": [
    "def has_unique_characters(string):\n",
    "    char_set = set()\n",
    "    for char in string:\n",
    "        if char in char_set:\n",
    "            return False\n",
    "        char_set.add(char)\n",
    "    return True\n",
    "\n",
    "input_string = \"hello\"\n",
    "result = has_unique_characters(input_string)\n",
    "print(f\"Does '{input_string}' have all unique characters? {result}\")\n",
    "\n",
    "input_string = \"world\"\n",
    "result = has_unique_characters(input_string)\n",
    "print(f\"Does '{input_string}' have all unique characters? {result}\")\n"
   ]
  },
  {
   "cell_type": "raw",
   "id": "0299801e-7e5a-47ec-8aed-3e8b72093e0e",
   "metadata": {},
   "source": [
    "8. convert string to uppercase and lowecase"
   ]
  },
  {
   "cell_type": "code",
   "execution_count": 3,
   "id": "e5da6385-a937-448c-89cf-1856cf5af959",
   "metadata": {},
   "outputs": [
    {
     "name": "stdin",
     "output_type": "stream",
     "text": [
      "enter a string :  Data Science with GENERATIVE AI\n"
     ]
    },
    {
     "name": "stdout",
     "output_type": "stream",
     "text": [
      "data science with generative ai\n",
      "DATA SCIENCE WITH GENERATIVE AI\n"
     ]
    }
   ],
   "source": [
    "def convert_lowerCase(s):\n",
    "    return s.lower()\n",
    "def convert_upperCase(s):\n",
    "    return s.upper()\n",
    "\n",
    "a = input(\"enter a string : \")\n",
    "print(convert_lowerCase(a))\n",
    "print(convert_upperCase(a))"
   ]
  },
  {
   "cell_type": "raw",
   "id": "31628f15-b372-4028-a8d2-91c978891dc1",
   "metadata": {},
   "source": [
    "9. Write a code to count number of words in a string."
   ]
  },
  {
   "cell_type": "code",
   "execution_count": 6,
   "id": "0b4631ee-f733-4aab-853b-43f73e1caba6",
   "metadata": {},
   "outputs": [
    {
     "name": "stdout",
     "output_type": "stream",
     "text": [
      "5\n"
     ]
    }
   ],
   "source": [
    "def count_words(s):\n",
    "    l = s.split()\n",
    "    return len(l)\n",
    "\n",
    "print(count_words(\"Data Science with GENERATIVE AI\"))"
   ]
  },
  {
   "cell_type": "raw",
   "id": "e1705ee8-3688-4dc6-aaae-3a150f34cb29",
   "metadata": {},
   "source": [
    "10. To concatenate two strings using + operator"
   ]
  },
  {
   "cell_type": "code",
   "execution_count": 8,
   "id": "1f6a4b28-45cb-4afd-8316-7be72803f8e1",
   "metadata": {},
   "outputs": [
    {
     "name": "stdout",
     "output_type": "stream",
     "text": [
      "Data Science with GENERATIVE AI\n"
     ]
    }
   ],
   "source": [
    "def concatenate(s1, s2):\n",
    "    return s1+s2\n",
    "\n",
    "a = \"Data Science with \"\n",
    "b = \"GENERATIVE AI\"\n",
    "print(concatenate(a,b))"
   ]
  },
  {
   "cell_type": "raw",
   "id": "1b5fc984-1909-4ced-9e3e-9d0ceafd90c1",
   "metadata": {},
   "source": [
    "11. To remove all occurences of a element in a list"
   ]
  },
  {
   "cell_type": "code",
   "execution_count": 1,
   "id": "ce2d46ec-37a7-41ab-adeb-88747b7f3d62",
   "metadata": {},
   "outputs": [
    {
     "name": "stdout",
     "output_type": "stream",
     "text": [
      "[1, 3, 4, 5, 6]\n"
     ]
    }
   ],
   "source": [
    "original_list = [1, 2, 3, 4, 2, 5, 2, 6]\n",
    "element_to_remove = 2\n",
    "filtered_list = [x for x in original_list if x != element_to_remove]\n",
    "print(filtered_list)"
   ]
  },
  {
   "cell_type": "raw",
   "id": "15ca3ffe-3e1f-42e1-a94d-19b324349d46",
   "metadata": {},
   "source": [
    "12. Largest number in a list"
   ]
  },
  {
   "cell_type": "code",
   "execution_count": 2,
   "id": "6967cfbb-4cb3-4d11-8dc5-f1297fc18408",
   "metadata": {},
   "outputs": [
    {
     "name": "stdout",
     "output_type": "stream",
     "text": [
      "74\n"
     ]
    }
   ],
   "source": [
    "numbers = [3, 41, 12, 9, 74, 15]\n",
    "largest_number = max(numbers)\n",
    "print(largest_number)"
   ]
  },
  {
   "cell_type": "raw",
   "id": "612cdb30-507c-4cb0-94f3-408866b78333",
   "metadata": {},
   "source": [
    "13. Implement a code to find the second largest number in a given list of integers"
   ]
  },
  {
   "cell_type": "code",
   "execution_count": 3,
   "id": "6964d614-9353-411b-a1d2-a95723fcbe26",
   "metadata": {},
   "outputs": [
    {
     "name": "stdout",
     "output_type": "stream",
     "text": [
      "45\n"
     ]
    }
   ],
   "source": [
    "def second_largest(numbers):\n",
    "    first, second = float('-inf'), float('-inf')\n",
    "    for number in numbers:\n",
    "        if number > first:\n",
    "            first, second = number, first\n",
    "        elif first > number > second:\n",
    "            second = number\n",
    "    return second\n",
    "\n",
    "numbers = [10, 20, 4, 45, 99]\n",
    "print(second_largest(numbers))"
   ]
  },
  {
   "cell_type": "code",
   "execution_count": 4,
   "id": "39555207-6867-4182-872e-95522db9ff3b",
   "metadata": {},
   "outputs": [
    {
     "name": "stdout",
     "output_type": "stream",
     "text": [
      "{1: 1, 2: 2, 3: 3, 4: 1}\n"
     ]
    }
   ],
   "source": [
    "#14. Create a code to count the occurrences of each element in a list and return a dictionary with elements as keys and their counts as values\n",
    "def count_occurrences(lst):\n",
    "    return {item: lst.count(item) for item in set(lst)}\n",
    "\n",
    "lst = [1, 2, 2, 3, 3, 3, 4]\n",
    "print(count_occurrences(lst))\n"
   ]
  },
  {
   "cell_type": "code",
   "execution_count": 5,
   "id": "01b10d6b-edc7-4eef-ac88-cc8a7ca63a95",
   "metadata": {},
   "outputs": [
    {
     "name": "stdout",
     "output_type": "stream",
     "text": [
      "[5, 4, 3, 2, 1]\n"
     ]
    }
   ],
   "source": [
    "#15. Write a code to reverse a list in-place without using any built-in reverse functions\n",
    "def reverse_list(lst):\n",
    "    left, right = 0, len(lst) - 1\n",
    "    while left < right:\n",
    "        lst[left], lst[right] = lst[right], lst[left]\n",
    "        left += 1\n",
    "        right -= 1\n",
    "    return lst\n",
    "\n",
    "lst = [1, 2, 3, 4, 5]\n",
    "print(reverse_list(lst))"
   ]
  },
  {
   "cell_type": "code",
   "execution_count": 6,
   "id": "8d56827a-3fde-44bc-849c-53feb3a01c9e",
   "metadata": {},
   "outputs": [
    {
     "name": "stdout",
     "output_type": "stream",
     "text": [
      "[1, 2, 3, 4, 5]\n"
     ]
    }
   ],
   "source": [
    "#16. Implement a code to find and remove duplicates from a list while preserving the original order of elements\n",
    "def remove_duplicates(lst):\n",
    "    seen = set()\n",
    "    return [x for x in lst if not (x in seen or seen.add(x))]\n",
    "\n",
    "lst = [1, 2, 2, 3, 4, 4, 5]\n",
    "print(remove_duplicates(lst))"
   ]
  },
  {
   "cell_type": "code",
   "execution_count": 7,
   "id": "35b736ba-421d-423d-bd37-4eff945fcc63",
   "metadata": {},
   "outputs": [
    {
     "name": "stdout",
     "output_type": "stream",
     "text": [
      "True\n"
     ]
    }
   ],
   "source": [
    "#17. Create a code to check if a given list is sorted (either in ascending or descending order) or not\n",
    "def is_sorted(lst):\n",
    "    return lst == sorted(lst) or lst == sorted(lst, reverse=True)\n",
    "\n",
    "lst = [1, 2, 3, 4, 5]\n",
    "print(is_sorted(lst))"
   ]
  },
  {
   "cell_type": "code",
   "execution_count": 8,
   "id": "d57eead7-c2af-424a-8200-14bd7466ec24",
   "metadata": {},
   "outputs": [
    {
     "name": "stdout",
     "output_type": "stream",
     "text": [
      "[1, 2, 3, 4, 5, 6]\n"
     ]
    }
   ],
   "source": [
    "#18. Write a code to merge two sorted lists into a single sorted list\n",
    "def merge_sorted_lists(lst1, lst2):\n",
    "    return sorted(lst1 + lst2)\n",
    "\n",
    "lst1 = [1, 3, 5]\n",
    "lst2 = [2, 4, 6]\n",
    "print(merge_sorted_lists(lst1, lst2))"
   ]
  },
  {
   "cell_type": "code",
   "execution_count": 9,
   "id": "d3f17a99-dbd7-46cd-acc2-f615f222d494",
   "metadata": {},
   "outputs": [
    {
     "name": "stdout",
     "output_type": "stream",
     "text": [
      "[3, 4]\n"
     ]
    }
   ],
   "source": [
    "#19  Implement a code to find the intersection of two given lists\n",
    "def intersection(lst1, lst2):\n",
    "    return list(set(lst1) & set(lst2))\n",
    "\n",
    "lst1 = [1, 2, 3, 4]\n",
    "lst2 = [3, 4, 5, 6]\n",
    "print(intersection(lst1, lst2))"
   ]
  },
  {
   "cell_type": "code",
   "execution_count": 10,
   "id": "edfeb0af-a252-46c0-b423-458efdd71b08",
   "metadata": {},
   "outputs": [
    {
     "name": "stdout",
     "output_type": "stream",
     "text": [
      "[1, 2, 3, 4, 5]\n"
     ]
    }
   ],
   "source": [
    "#20. Create a code to find the union of two lists without duplicates\n",
    "def union(lst1, lst2):\n",
    "    return list(set(lst1) | set(lst2))\n",
    "\n",
    "lst1 = [1, 2, 3]\n",
    "lst2 = [3, 4, 5]\n",
    "print(union(lst1, lst2))"
   ]
  },
  {
   "cell_type": "code",
   "execution_count": 11,
   "id": "fc80322e-7cdd-4d87-b85e-11ddbc510009",
   "metadata": {},
   "outputs": [
    {
     "name": "stdout",
     "output_type": "stream",
     "text": [
      "[2, 4, 3, 1, 5]\n"
     ]
    }
   ],
   "source": [
    "#21. Write a code to shuffle a given list randomly without using any built-in shuffle functions\n",
    "import random\n",
    "\n",
    "def shuffle_list(lst):\n",
    "    shuffled = lst[:]\n",
    "    for i in range(len(shuffled)):\n",
    "        j = random.randint(0, len(shuffled) - 1)\n",
    "        shuffled[i], shuffled[j] = shuffled[j], shuffled[i]\n",
    "    return shuffled\n",
    "\n",
    "lst = [1, 2, 3, 4, 5]\n",
    "print(shuffle_list(lst))"
   ]
  },
  {
   "cell_type": "code",
   "execution_count": 12,
   "id": "9aa3a6dc-329f-4a8c-aca1-23144fee49e5",
   "metadata": {},
   "outputs": [
    {
     "name": "stdout",
     "output_type": "stream",
     "text": [
      "(3, 4)\n"
     ]
    }
   ],
   "source": [
    "#22. Write a code that takes two tuples as input and returns a new tuple containing elements that are common to both input tuples\n",
    "def common_elements(tuple1, tuple2):\n",
    "    return tuple(set(tuple1) & set(tuple2))\n",
    "\n",
    "tuple1 = (1, 2, 3, 4)\n",
    "tuple2 = (3, 4, 5, 6)\n",
    "print(common_elements(tuple1, tuple2))"
   ]
  },
  {
   "cell_type": "code",
   "execution_count": 14,
   "id": "30ea96ef-57f9-4e45-9888-48f69ee1c732",
   "metadata": {},
   "outputs": [
    {
     "name": "stdin",
     "output_type": "stream",
     "text": [
      "Enter first set of integers:  1234556\n",
      "Enter second set of integers:  2345677\n"
     ]
    },
    {
     "name": "stdout",
     "output_type": "stream",
     "text": [
      "set()\n"
     ]
    }
   ],
   "source": [
    "#23. Create a code that prompts the user to enter two sets of integers separated by commas. Then, print the intersection of these two sets\n",
    "set1 = set(map(int, input(\"Enter first set of integers: \").split(',')))\n",
    "set2 = set(map(int, input(\"Enter second set of integers: \").split(',')))\n",
    "print(set1 & set2)"
   ]
  },
  {
   "cell_type": "code",
   "execution_count": 15,
   "id": "9093da9b-aad8-417c-bd68-dbf1d915d00e",
   "metadata": {},
   "outputs": [
    {
     "name": "stdout",
     "output_type": "stream",
     "text": [
      "(1, 2, 3, 4, 5, 6)\n"
     ]
    }
   ],
   "source": [
    "#24. Write a code to concatenate two tuples. The function should take two tuples as input and return a new tuple containing elements from both input tuples\n",
    "def concatenate_tuples(tuple1, tuple2):\n",
    "    return tuple1 + tuple2\n",
    "\n",
    "tuple1 = (1, 2, 3)\n",
    "tuple2 = (4, 5, 6)\n",
    "print(concatenate_tuples(tuple1, tuple2))"
   ]
  },
  {
   "cell_type": "code",
   "execution_count": 1,
   "id": "da108827-78d3-4d9d-a217-2e9bc5a1fd8b",
   "metadata": {},
   "outputs": [
    {
     "name": "stdin",
     "output_type": "stream",
     "text": [
      "Enter first set of strings:  a,b,c,d\n",
      "Enter second set of strings:  b,d\n"
     ]
    },
    {
     "name": "stdout",
     "output_type": "stream",
     "text": [
      "{'c', 'a'}\n"
     ]
    }
   ],
   "source": [
    "#25. Develop a code that prompts the user to input two sets of strings. Then, print the elements that are present in the first set but not in the second set\n",
    "set1 = set(input(\"Enter first set of strings: \").split(','))\n",
    "set2 = set(input(\"Enter second set of strings: \").split(','))\n",
    "print(set1 - set2)"
   ]
  },
  {
   "cell_type": "code",
   "execution_count": 2,
   "id": "beabd552-4226-4798-ab85-1ff1e3ac58e0",
   "metadata": {},
   "outputs": [
    {
     "name": "stdout",
     "output_type": "stream",
     "text": [
      "(2, 3, 4)\n"
     ]
    }
   ],
   "source": [
    "#26. Create a code that takes a tuple and two integers as input. The function should return a new tuple containing elements from the original tuple within the specified range of indices\n",
    "def slice_tuple(tpl, start, end):\n",
    "    return tpl[start:end+1]\n",
    "\n",
    "tpl = (1, 2, 3, 4, 5)\n",
    "start = 1\n",
    "end = 3\n",
    "print(slice_tuple(tpl, start, end))"
   ]
  },
  {
   "cell_type": "code",
   "execution_count": 3,
   "id": "3033a2b8-a5c8-4ffb-a3a0-e360a192244e",
   "metadata": {},
   "outputs": [
    {
     "name": "stdin",
     "output_type": "stream",
     "text": [
      "Enter first set of characters:  a,b,c,d\n",
      "Enter second set of characters:  a,b\n"
     ]
    },
    {
     "name": "stdout",
     "output_type": "stream",
     "text": [
      "{'c', 'a', 'd', ',', 'b'}\n"
     ]
    }
   ],
   "source": [
    "#27. Write a code that prompts the user to input two sets of characters. Then, print the union of these two sets\n",
    "set1 = set(input(\"Enter first set of characters: \"))\n",
    "set2 = set(input(\"Enter second set of characters: \"))\n",
    "print(set1 | set2)"
   ]
  },
  {
   "cell_type": "code",
   "execution_count": 4,
   "id": "b41d01cc-abc5-4bf5-86d1-bb7c652854d2",
   "metadata": {},
   "outputs": [
    {
     "name": "stdout",
     "output_type": "stream",
     "text": [
      "(5, 1)\n"
     ]
    }
   ],
   "source": [
    "#28. Develop a code that takes a tuple of integers as input. The function should return the maximum and minimum values from the tuple using tuple unpacking\n",
    "def max_min(tpl):\n",
    "    return max(tpl), min(tpl)\n",
    "\n",
    "tpl = (1, 2, 3, 4, 5)\n",
    "print(max_min(tpl))"
   ]
  },
  {
   "cell_type": "code",
   "execution_count": 5,
   "id": "63f8466a-6eea-44c8-b01a-737ea6872cd8",
   "metadata": {},
   "outputs": [
    {
     "name": "stdout",
     "output_type": "stream",
     "text": [
      "{1, 2, 3, 4, 5}\n",
      "{3}\n",
      "{1, 2}\n"
     ]
    }
   ],
   "source": [
    "#29. Create a code that defines two sets of integers. Then, print the union, intersection, and difference of these two sets\n",
    "set1 = {1, 2, 3}\n",
    "set2 = {3, 4, 5}\n",
    "print(set1 | set2)\n",
    "print(set1 & set2)\n",
    "print(set1 - set2)"
   ]
  },
  {
   "cell_type": "code",
   "execution_count": 6,
   "id": "4d0f2b5f-8dd1-464f-aa54-1d4bf86030c7",
   "metadata": {},
   "outputs": [
    {
     "name": "stdout",
     "output_type": "stream",
     "text": [
      "3\n"
     ]
    }
   ],
   "source": [
    "#30. Write a code that takes a tuple and an element as input. The function should return the count of occurrences of the given element in the tuple\n",
    "def count_occurrences(tpl, element):\n",
    "    return tpl.count(element)\n",
    "\n",
    "tpl = (1, 2, 2, 3, 4, 2)\n",
    "element = 2\n",
    "print(count_occurrences(tpl, element))"
   ]
  },
  {
   "cell_type": "code",
   "execution_count": 7,
   "id": "23eca84a-c018-477b-8b72-21667eaac9bc",
   "metadata": {},
   "outputs": [
    {
     "name": "stdin",
     "output_type": "stream",
     "text": [
      "Enter first set of strings:  1 2 4 5 \n",
      "Enter second set of strings:  2 4 5 3\n"
     ]
    },
    {
     "name": "stdout",
     "output_type": "stream",
     "text": [
      "{'2 4 5 3', '1 2 4 5 '}\n"
     ]
    }
   ],
   "source": [
    "#31. Develop a code that prompts the user to input two sets of strings. Then, print the symmetric difference of these two sets\n",
    "set1 = set(input(\"Enter first set of strings: \").split(','))\n",
    "set2 = set(input(\"Enter second set of strings: \").split(','))\n",
    "print(set1 ^ set2)"
   ]
  },
  {
   "cell_type": "code",
   "execution_count": 8,
   "id": "415e81fc-66f1-4d50-843a-3651100aeea6",
   "metadata": {},
   "outputs": [
    {
     "name": "stdout",
     "output_type": "stream",
     "text": [
      "{'orange': 1, 'banana': 2, 'apple': 3}\n"
     ]
    }
   ],
   "source": [
    "#32. Write a code that takes a list of words as input and returns a dictionary where the keys are unique words and the values are the frequencies of those words in the input list\n",
    "def word_frequencies(words):\n",
    "    return {word: words.count(word) for word in set(words)}\n",
    "\n",
    "words = ['apple', 'banana', 'apple', 'orange', 'banana', 'apple']\n",
    "print(word_frequencies(words))"
   ]
  },
  {
   "cell_type": "code",
   "execution_count": 9,
   "id": "3a5e65d9-4585-4740-8bd7-b44cf4c691cf",
   "metadata": {},
   "outputs": [
    {
     "name": "stdout",
     "output_type": "stream",
     "text": [
      "{'a': 1, 'b': 5, 'c': 7, 'd': 5}\n"
     ]
    }
   ],
   "source": [
    "#33. Write a code that takes two dictionaries as input and merges them into a single dictionary. If there are common keys, the values should be added together\n",
    "def merge_dictionaries(dict1, dict2):\n",
    "    merged_dict = dict1.copy()\n",
    "    for key, value in dict2.items():\n",
    "        if key in merged_dict:\n",
    "            merged_dict[key] += value\n",
    "        else:\n",
    "            merged_dict[key] = value\n",
    "    return merged_dict\n",
    "\n",
    "dict1 = {'a': 1, 'b': 2, 'c': 3}\n",
    "dict2 = {'b': 3, 'c': 4, 'd': 5}\n",
    "print(merge_dictionaries(dict1, dict2))"
   ]
  },
  {
   "cell_type": "code",
   "execution_count": 10,
   "id": "4316cf58-5748-434a-a92f-2ccd9b39fbce",
   "metadata": {},
   "outputs": [
    {
     "name": "stdout",
     "output_type": "stream",
     "text": [
      "42\n"
     ]
    }
   ],
   "source": [
    "#34. Write a code to access a value in a nested dictionary. The function should take the dictionary and a list of keys as input, and return the corresponding value. If any of the keys do not exist in the dictionary, the function should return None\n",
    "def get_nested_value(nested_dict, keys):\n",
    "    for key in keys:\n",
    "        nested_dict = nested_dict.get(key)\n",
    "        if nested_dict is None:\n",
    "            return None\n",
    "    return nested_dict\n",
    "\n",
    "nested_dict = {'a': {'b': {'c': 42}}}\n",
    "keys = ['a', 'b', 'c']\n",
    "print(get_nested_value(nested_dict, keys))"
   ]
  },
  {
   "cell_type": "code",
   "execution_count": null,
   "id": "fd30dd51-be0c-4472-9739-5b4a8fb9144a",
   "metadata": {},
   "outputs": [],
   "source": []
  }
 ],
 "metadata": {
  "kernelspec": {
   "display_name": "Python 3 (ipykernel)",
   "language": "python",
   "name": "python3"
  },
  "language_info": {
   "codemirror_mode": {
    "name": "ipython",
    "version": 3
   },
   "file_extension": ".py",
   "mimetype": "text/x-python",
   "name": "python",
   "nbconvert_exporter": "python",
   "pygments_lexer": "ipython3",
   "version": "3.10.8"
  }
 },
 "nbformat": 4,
 "nbformat_minor": 5
}
