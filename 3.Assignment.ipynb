{
 "cells": [
  {
   "cell_type": "markdown",
   "id": "b4638af4-c0cb-42ab-a20e-5138ee5cea42",
   "metadata": {},
   "source": [
    "THEORY QUESTIONS"
   ]
  },
  {
   "cell_type": "raw",
   "id": "eeb2c7bd-8341-42f5-8fc6-3e501fdd6a0a",
   "metadata": {},
   "source": [
    "1. What is the difference b/w a function and method in python."
   ]
  },
  {
   "cell_type": "raw",
   "id": "999a3365-f1fc-4be3-bef0-53eb1dcc2afb",
   "metadata": {},
   "source": [
    "Function\n",
    "Definition: A function is a block of code that is defined using the def keyword and can be called independently. It is not associated with any object.\n",
    "Calling: Functions are called directly by their name."
   ]
  },
  {
   "cell_type": "code",
   "execution_count": 2,
   "id": "654f4912-73d9-499d-ad52-e08a1b275c81",
   "metadata": {},
   "outputs": [
    {
     "name": "stdout",
     "output_type": "stream",
     "text": [
      "Hello, kumkum!\n"
     ]
    }
   ],
   "source": [
    "#example\n",
    "def greet(name):\n",
    "    return f\"Hello, {name}!\"\n",
    "\n",
    "print(greet(\"kumkum\")) \n"
   ]
  },
  {
   "cell_type": "raw",
   "id": "972ec8a6-701a-4de5-8828-a28a8c3dc77f",
   "metadata": {},
   "source": [
    "Method\n",
    "Definition: A method is similar to a function, but it is associated with an object (usually an instance of a class). Methods are defined within a class and typically operate on data within that class (i.e., the instance attributes).\n",
    "Calling: Methods are called on an object using the dot notation."
   ]
  },
  {
   "cell_type": "code",
   "execution_count": 3,
   "id": "bddd3042-6c1f-4595-b8da-d9b1b19f4aae",
   "metadata": {},
   "outputs": [
    {
     "name": "stdout",
     "output_type": "stream",
     "text": [
      "Hello, kk!\n"
     ]
    }
   ],
   "source": [
    "#example\n",
    "class Greeter:\n",
    "    def __init__(self, name):\n",
    "        self.name = name\n",
    "\n",
    "    def greet(self):\n",
    "        return f\"Hello, {self.name}!\"\n",
    "\n",
    "person = Greeter(\"kk\")\n",
    "print(person.greet())  "
   ]
  },
  {
   "cell_type": "raw",
   "id": "f416f1db-6761-422a-ae25-bd34b7a0d05b",
   "metadata": {},
   "source": [
    "2. Explain the concept of function argument and parameter in python."
   ]
  },
  {
   "cell_type": "raw",
   "id": "69b3e58a-e9d0-4258-b494-256cae9d46ff",
   "metadata": {},
   "source": [
    "Parameter\n",
    "Definition: A parameter is a variable in the function definition that specifies what kind of input the function can accept. Parameters act as placeholders for the values that will be passed into the function when it is called.\n",
    "Location: Parameters are found inside the parentheses in the function definition."
   ]
  },
  {
   "cell_type": "code",
   "execution_count": 5,
   "id": "e8460828-65ff-4132-aaae-9c35838a5664",
   "metadata": {},
   "outputs": [],
   "source": [
    "#example\n",
    "def add(a, b):  \n",
    "    return a + b"
   ]
  },
  {
   "cell_type": "raw",
   "id": "98f0588f-1c65-49e3-916b-34a8bd5f12c4",
   "metadata": {},
   "source": [
    "Argument\n",
    "Definition: An argument is the actual value that is passed to the function when it is called. Arguments correspond to the parameters defined in the function.\n",
    "Location: Arguments are supplied within the parentheses when the function is invoked."
   ]
  },
  {
   "cell_type": "code",
   "execution_count": 6,
   "id": "ea5938be-de75-4eb5-8d93-9d8f0895289a",
   "metadata": {},
   "outputs": [
    {
     "name": "stdout",
     "output_type": "stream",
     "text": [
      "8\n"
     ]
    }
   ],
   "source": [
    "#example\n",
    "result = add(5, 3)  \n",
    "print(result)       "
   ]
  },
  {
   "cell_type": "raw",
   "id": "3275ed7b-39d6-46af-a915-0eb59b980aff",
   "metadata": {},
   "source": [
    "3. Different ways to define and call a function in python."
   ]
  },
  {
   "cell_type": "raw",
   "id": "7d276e5e-40fd-4f1e-82c2-18605f09fb5b",
   "metadata": {},
   "source": [
    "1. Standard Function Definition and Call\n",
    "Definition: Use the def keyword followed by the function name and parameters.\n",
    "Call: Directly by the function name."
   ]
  },
  {
   "cell_type": "code",
   "execution_count": 7,
   "id": "437af454-e02b-4549-80e1-00928a343445",
   "metadata": {},
   "outputs": [
    {
     "name": "stdout",
     "output_type": "stream",
     "text": [
      "Hello, kk!\n"
     ]
    }
   ],
   "source": [
    "def greet(name):\n",
    "    return f\"Hello, {name}!\"\n",
    "\n",
    "print(greet(\"kk\"))  "
   ]
  },
  {
   "cell_type": "raw",
   "id": "16fbc965-41eb-48bf-819e-61fb6b2fb37d",
   "metadata": {},
   "source": [
    "2. Function with Default Parameters\n",
    "Definition: Define default values for parameters in the function.\n",
    "Call: You can call the function with or without providing all arguments."
   ]
  },
  {
   "cell_type": "code",
   "execution_count": 8,
   "id": "fcb64613-a381-479a-8e85-cb1022beae1d",
   "metadata": {},
   "outputs": [
    {
     "name": "stdout",
     "output_type": "stream",
     "text": [
      "Hello, Guest!\n",
      "Hello, kumkum!\n"
     ]
    }
   ],
   "source": [
    "def greet(name=\"Guest\"):\n",
    "    return f\"Hello, {name}!\"\n",
    "\n",
    "print(greet())          \n",
    "print(greet(\"kumkum\"))   "
   ]
  },
  {
   "cell_type": "raw",
   "id": "83c9eba9-8c6f-49b1-9b0a-bc818a267771",
   "metadata": {},
   "source": [
    "3. Function with Variable-Length Arguments (using *args and **kwargs)\n",
    "Definition: Use *args for non-keyword variable-length arguments and **kwargs for keyword variable-length arguments.\n",
    "Call: Pass any number of positional or keyword arguments."
   ]
  },
  {
   "cell_type": "code",
   "execution_count": 9,
   "id": "0170eb65-a9ba-487b-aac0-fc2e5e6410b6",
   "metadata": {},
   "outputs": [
    {
     "name": "stdout",
     "output_type": "stream",
     "text": [
      "6\n",
      "My name is kumkum and I am 20 years old.\n"
     ]
    }
   ],
   "source": [
    "def add(*args):\n",
    "    return sum(args)\n",
    "\n",
    "print(add(1, 2, 3))      \n",
    "\n",
    "def introduce(**kwargs):\n",
    "    return f\"My name is {kwargs.get('name')} and I am {kwargs.get('age')} years old.\"\n",
    "\n",
    "print(introduce(name=\"kumkum\", age=20))  "
   ]
  },
  {
   "cell_type": "raw",
   "id": "68a66158-28d8-4fc8-9390-d425bea50797",
   "metadata": {},
   "source": [
    "4. What is the purpose of the return statement in a python function?"
   ]
  },
  {
   "cell_type": "raw",
   "id": "cc63f554-7924-4847-91aa-29f38ab7b4e1",
   "metadata": {},
   "source": [
    "The return statement in a Python function serves to exit the function and send back a value to the caller. When a function encounters a return statement, it stops executing further code in the function and returns the specified value. If no value is specified, the function returns None by default."
   ]
  },
  {
   "cell_type": "code",
   "execution_count": 3,
   "id": "a36b9a88-5be3-4f76-a56a-0a1f5dbe75c9",
   "metadata": {},
   "outputs": [
    {
     "name": "stdout",
     "output_type": "stream",
     "text": [
      "8\n"
     ]
    }
   ],
   "source": [
    "def add(a, b):\n",
    "    return a + b\n",
    "\n",
    "result = add(5, 3)  \n",
    "print(result)"
   ]
  },
  {
   "cell_type": "raw",
   "id": "f5f11553-a4a5-4c1f-a3c9-1f8bdf04ecac",
   "metadata": {},
   "source": [
    "5.What are iterators in Python and how do they differ from iterables?"
   ]
  },
  {
   "cell_type": "raw",
   "id": "c7443aa2-8140-4b81-a950-3516c932e9dd",
   "metadata": {},
   "source": [
    "Iterable vs Iterator: An iterable is any object that can return an iterator, while an iterator is an object that can be used to iterate over an iterable.\n",
    "State: Iterators maintain their state during iteration, meaning they \"remember\" where they are in the sequence. Iterables do not have this state-tracking ability.\n",
    "One-Time Use: Iterators can be used only once. Once all items are exhausted, they cannot be reset or reused (unless explicitly re-created). In contrast, you can iterate over an iterable multiple times.\n",
    "Methods: Iterators implement the __next__() and __iter__() methods, whereas iterables only implement __iter__()."
   ]
  },
  {
   "cell_type": "raw",
   "id": "4174422f-46c9-4cf5-9831-317a0e98a008",
   "metadata": {},
   "source": [
    "6. Explain the concept of generators in Python and how they are defined"
   ]
  },
  {
   "cell_type": "raw",
   "id": "94955d5d-9ac4-4c93-9c56-e47f4062345d",
   "metadata": {},
   "source": [
    "Generators in Python are a special type of iterator that allow you to create an iterable sequence of values in a memory-efficient way. They are particularly useful for working with large data sets or streams where you don't want to load all the data into memory at once.\n",
    "A generator function is defined like a regular function, but instead of using return to return a value, it uses the yield keyword."
   ]
  },
  {
   "cell_type": "raw",
   "id": "1199d4af-115d-4a3a-a488-7befa1babcbf",
   "metadata": {},
   "source": [
    "7. Advantages of using generator over regular functions?"
   ]
  },
  {
   "cell_type": "raw",
   "id": "6e248615-628c-4d2e-b2e4-565e933ba162",
   "metadata": {},
   "source": [
    "Memory Efficiency: Yield items one at a time, reducing memory usage.\n",
    "Improved Performance: Start producing output immediately, speeding up processing.\n",
    "Simplified State Management: Automatically retain state between iterations, making code cleaner.\n",
    "Handling Infinite Sequences: Generate values on the fly, supporting infinite data without memory overflow.\n",
    "Pipeline Processing: Enable data to be processed in stages without intermediate storage."
   ]
  },
  {
   "cell_type": "raw",
   "id": "b0080df5-e845-40b7-9f26-6a00f4c8b4d6",
   "metadata": {},
   "source": [
    "8. What is lambda function in Python and when is it typically used?"
   ]
  },
  {
   "cell_type": "raw",
   "id": "68d82ca2-7897-4654-acf1-480d3abff892",
   "metadata": {},
   "source": [
    "A lambda function in Python is a small, anonymous function defined with the lambda keyword. Unlike regular functions, a lambda function is defined in a single line and can have any number of arguments but only one expression. The result of the expression is implicitly returned.\n",
    "Syntax:  lambda arguments: expression"
   ]
  },
  {
   "cell_type": "code",
   "execution_count": 4,
   "id": "4a56fa78-0e2f-42bc-82b3-a6a63a8484bb",
   "metadata": {},
   "outputs": [
    {
     "name": "stdout",
     "output_type": "stream",
     "text": [
      "8\n"
     ]
    }
   ],
   "source": [
    "add = lambda x, y: x + y\n",
    "print(add(3, 5)) "
   ]
  },
  {
   "cell_type": "raw",
   "id": "396ffa0f-df76-40ba-9ca1-e700a52336a4",
   "metadata": {},
   "source": [
    "9. Purpose and usage of the map() function in python."
   ]
  },
  {
   "cell_type": "raw",
   "id": "41687335-9405-49af-a427-3140a3bc0d02",
   "metadata": {},
   "source": [
    "Purpose:\n",
    "Apply a Function to Each Element: The main purpose of map() is to apply a function to every element in an iterable without using an explicit loop.\n",
    "Simplify Code: It helps to write more concise and readable code, especially when processing large datasets or performing simple transformations.\n",
    "function: The function that you want to apply to each element.\n",
    "iterable: The iterable whose elements you want to process."
   ]
  },
  {
   "cell_type": "code",
   "execution_count": 5,
   "id": "b9b06d5a-f6b4-430e-adaf-478e57f3d739",
   "metadata": {},
   "outputs": [
    {
     "name": "stdout",
     "output_type": "stream",
     "text": [
      "[1, 4, 9, 16]\n"
     ]
    }
   ],
   "source": [
    "numbers = [1, 2, 3, 4]\n",
    "squares = map(lambda x: x * x, numbers)\n",
    "print(list(squares))  "
   ]
  },
  {
   "cell_type": "raw",
   "id": "8fb0b167-ab05-43a6-8ab7-b8bdf3a3e7df",
   "metadata": {},
   "source": [
    "10. Difference b/w map(), reduce(), filter()."
   ]
  },
  {
   "cell_type": "raw",
   "id": "4accbedd-1ebd-4cae-8b00-bf154c5d07cf",
   "metadata": {},
   "source": [
    "1. map()\n",
    "Purpose: Applies a specified function to each item in an iterable and returns a map object (an iterator) containing the results.\n",
    "Usage: Used when you want to transform each element in a collection independently."
   ]
  },
  {
   "cell_type": "code",
   "execution_count": 6,
   "id": "53c6af53-6a4d-4b69-8191-6eb3d157f1d0",
   "metadata": {},
   "outputs": [
    {
     "name": "stdout",
     "output_type": "stream",
     "text": [
      "[1, 4, 9, 16]\n"
     ]
    }
   ],
   "source": [
    "numbers = [1, 2, 3, 4]\n",
    "squares = map(lambda x: x * x, numbers)\n",
    "print(list(squares))  "
   ]
  },
  {
   "cell_type": "raw",
   "id": "97f39854-ed1d-4e8e-8c4c-6695ccd0e458",
   "metadata": {},
   "source": [
    "2. filter()\n",
    "Purpose: Filters elements in an iterable by applying a function that returns either True or False. Only the elements that return True are included in the result.\n",
    "Usage: Used when you want to filter out elements from a collection based on a condition."
   ]
  },
  {
   "cell_type": "code",
   "execution_count": 7,
   "id": "279e75f3-dce1-43ac-9a0d-46605ec2904a",
   "metadata": {},
   "outputs": [
    {
     "name": "stdout",
     "output_type": "stream",
     "text": [
      "[2, 4]\n"
     ]
    }
   ],
   "source": [
    "numbers = [1, 2, 3, 4]\n",
    "even_numbers = filter(lambda x: x % 2 == 0, numbers)\n",
    "print(list(even_numbers))  "
   ]
  },
  {
   "cell_type": "raw",
   "id": "dea9ec53-2397-47c7-abec-84a3770283f3",
   "metadata": {},
   "source": [
    "3. reduce()\n",
    "Purpose: Applies a function cumulatively to the items of an iterable, reducing the iterable to a single value. It’s part of the functools module.\n",
    "Usage: Used when you need to aggregate or combine all elements of a collection into a single value."
   ]
  },
  {
   "cell_type": "code",
   "execution_count": 8,
   "id": "94ee3fa1-d4f8-4d70-9ae2-626883d15713",
   "metadata": {},
   "outputs": [
    {
     "name": "stdout",
     "output_type": "stream",
     "text": [
      "10\n"
     ]
    }
   ],
   "source": [
    "from functools import reduce\n",
    "numbers = [1, 2, 3, 4]\n",
    "total = reduce(lambda x, y: x + y, numbers)\n",
    "print(total)  "
   ]
  },
  {
   "cell_type": "code",
   "execution_count": null,
   "id": "48568325-7fc7-43b9-bb82-e17894d8d5a9",
   "metadata": {},
   "outputs": [],
   "source": []
  },
  {
   "cell_type": "markdown",
   "id": "7c9e3e72-31b3-4d06-a3bd-839fdd7f1f57",
   "metadata": {},
   "source": [
    "PRACTICAL QUESTIONS"
   ]
  },
  {
   "cell_type": "raw",
   "id": "a764d399-52a4-41b7-9894-348f4629479c",
   "metadata": {},
   "source": [
    "1. Write a Python function that takes a list of numbers as input and returns the sum of all even numbers in the list"
   ]
  },
  {
   "cell_type": "code",
   "execution_count": 9,
   "id": "f24b28ee-91a1-41f6-91ce-a2b280ebb1c5",
   "metadata": {},
   "outputs": [
    {
     "name": "stdout",
     "output_type": "stream",
     "text": [
      "12\n"
     ]
    }
   ],
   "source": [
    "def sum_of_even_numbers(numbers):\n",
    "    return sum(filter(lambda x: x % 2 == 0, numbers))\n",
    "\n",
    "numbers = [1, 2, 3, 4, 5, 6]\n",
    "result = sum_of_even_numbers(numbers)\n",
    "print(result)  "
   ]
  },
  {
   "cell_type": "raw",
   "id": "8e427e29-a76d-4cc9-8d72-f3f9fbdeb56a",
   "metadata": {},
   "source": [
    "2. Create a Python function that accepts a string and returns the reverse of that string."
   ]
  },
  {
   "cell_type": "code",
   "execution_count": 10,
   "id": "9243eea7-fa87-4c20-bcea-4b6703900c9c",
   "metadata": {},
   "outputs": [
    {
     "name": "stdout",
     "output_type": "stream",
     "text": [
      "olleh\n"
     ]
    }
   ],
   "source": [
    "def reverse_string(s):\n",
    "    return s[::-1]\n",
    "\n",
    "string = \"hello\"\n",
    "reversed_string = reverse_string(string)\n",
    "print(reversed_string)  "
   ]
  },
  {
   "cell_type": "raw",
   "id": "67752efc-842c-4f61-825e-3a52e0295e63",
   "metadata": {},
   "source": [
    "3. Implement a Python function that takes a list of integers and returns a new list containing the squares of each number."
   ]
  },
  {
   "cell_type": "code",
   "execution_count": 11,
   "id": "a5b73700-71de-4277-8960-219d467eba4f",
   "metadata": {},
   "outputs": [
    {
     "name": "stdout",
     "output_type": "stream",
     "text": [
      "[1, 4, 9, 16]\n"
     ]
    }
   ],
   "source": [
    "def square_numbers(numbers):\n",
    "    return [x * x for x in numbers]\n",
    "\n",
    "numbers = [1, 2, 3, 4]\n",
    "squared = square_numbers(numbers)\n",
    "print(squared)\n"
   ]
  },
  {
   "cell_type": "raw",
   "id": "4967a85a-ba17-45d6-86fb-2a8bcb73e367",
   "metadata": {},
   "source": [
    "4. Write a Python function that checks if a given number is prime or not from 1 to 200"
   ]
  },
  {
   "cell_type": "code",
   "execution_count": 12,
   "id": "5d5a3693-9c08-40cd-87b9-7d583d7c593f",
   "metadata": {},
   "outputs": [
    {
     "name": "stdout",
     "output_type": "stream",
     "text": [
      "True\n"
     ]
    }
   ],
   "source": [
    "def is_prime(num):\n",
    "    if num < 2:\n",
    "        return False\n",
    "    for i in range(2, int(num**0.5) + 1):\n",
    "        if num % i == 0:\n",
    "            return False\n",
    "    return True\n",
    "\n",
    "number = 29\n",
    "print(is_prime(number)) "
   ]
  },
  {
   "cell_type": "raw",
   "id": "ff5b0ffd-3e01-4484-b5c8-a4f7b11f9e00",
   "metadata": {},
   "source": [
    "5. Create an iterator class in Python that generates the Fibonacci sequence up to a specified number of terms"
   ]
  },
  {
   "cell_type": "code",
   "execution_count": 13,
   "id": "e987edfa-593e-4b2f-8ba2-ed4b35f5b15a",
   "metadata": {},
   "outputs": [
    {
     "name": "stdout",
     "output_type": "stream",
     "text": [
      "0\n",
      "1\n",
      "1\n",
      "2\n",
      "3\n",
      "5\n",
      "8\n",
      "13\n",
      "21\n",
      "34\n"
     ]
    }
   ],
   "source": [
    "class FibonacciIterator:\n",
    "    def __init__(self, terms):\n",
    "        self.terms = terms\n",
    "        self.a, self.b = 0, 1\n",
    "        self.count = 0\n",
    "\n",
    "    def __iter__(self):\n",
    "        return self\n",
    "\n",
    "    def __next__(self):\n",
    "        if self.count < self.terms:\n",
    "            result = self.a\n",
    "            self.a, self.b = self.b, self.a + self.b\n",
    "            self.count += 1\n",
    "            return result\n",
    "        else:\n",
    "            raise StopIteration\n",
    "\n",
    "fib = FibonacciIterator(10)\n",
    "for number in fib:\n",
    "    print(number)\n"
   ]
  },
  {
   "cell_type": "raw",
   "id": "c4b24849-1b97-4ec4-904c-88b9d833c7bd",
   "metadata": {},
   "source": [
    "6. Write a generator function in Python that yields the powers of 2 up to a given exponent."
   ]
  },
  {
   "cell_type": "code",
   "execution_count": 1,
   "id": "888cfac5-e291-4be2-89c4-21804173368a",
   "metadata": {},
   "outputs": [
    {
     "name": "stdout",
     "output_type": "stream",
     "text": [
      "1\n",
      "2\n",
      "4\n",
      "8\n",
      "16\n",
      "32\n"
     ]
    }
   ],
   "source": [
    "def powers_of_two(max_exponent):\n",
    "    for exponent in range(max_exponent + 1):\n",
    "        yield 2 ** exponent\n",
    "\n",
    "for value in powers_of_two(5):\n",
    "    print(value)"
   ]
  },
  {
   "cell_type": "raw",
   "id": "9ecb384e-7cf2-4152-b925-d1c58ecbc7d3",
   "metadata": {},
   "source": [
    "7. Use a lambda function in Python to sort a list of tuples based on the second element of each tuple."
   ]
  },
  {
   "cell_type": "code",
   "execution_count": 2,
   "id": "e76203e9-ff01-4a22-a4c1-a6c57267d4db",
   "metadata": {},
   "outputs": [
    {
     "name": "stdout",
     "output_type": "stream",
     "text": [
      "[(4, 1), (7, 2), (1, 3), (2, 5)]\n"
     ]
    }
   ],
   "source": [
    "tuples_list = [(1, 3), (4, 1), (2, 5), (7, 2)]\n",
    "\n",
    "sorted_list = sorted(tuples_list, key=lambda x: x[1])\n",
    "\n",
    "print(sorted_list)\n"
   ]
  },
  {
   "cell_type": "raw",
   "id": "a1d32713-a2f3-4b8e-a542-0910331768bd",
   "metadata": {},
   "source": [
    "8.Use map() to convert a list of temperature from Celsius to Fahrenheit."
   ]
  },
  {
   "cell_type": "code",
   "execution_count": null,
   "id": "78ca6f4d-7d1e-4710-a071-841af9b55210",
   "metadata": {},
   "outputs": [],
   "source": [
    "9. Use filter() to remove all vowels "
   ]
  }
 ],
 "metadata": {
  "kernelspec": {
   "display_name": "Python 3 (ipykernel)",
   "language": "python",
   "name": "python3"
  },
  "language_info": {
   "codemirror_mode": {
    "name": "ipython",
    "version": 3
   },
   "file_extension": ".py",
   "mimetype": "text/x-python",
   "name": "python",
   "nbconvert_exporter": "python",
   "pygments_lexer": "ipython3",
   "version": "3.10.8"
  }
 },
 "nbformat": 4,
 "nbformat_minor": 5
}
