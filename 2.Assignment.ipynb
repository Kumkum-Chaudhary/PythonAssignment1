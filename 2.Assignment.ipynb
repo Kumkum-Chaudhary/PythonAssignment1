{
 "cells": [
  {
   "cell_type": "markdown",
   "id": "825305cd-344a-48fa-8238-696f87495851",
   "metadata": {},
   "source": [
    "1. Discuss string slicing and provide example"
   ]
  },
  {
   "cell_type": "raw",
   "id": "6477397f-29df-4797-95e1-3d9631583b95",
   "metadata": {},
   "source": [
    "String slicing is a method in which a sub part of a string can be accessed.\n",
    "It can use positive as well as negative index.\n",
    "It follows a syntax -> string_name[ starting_index : ending_index : steps ]\n",
    "but it can be used as [ starting_index : ending_index ] , here the steps are 0 by default"
   ]
  },
  {
   "cell_type": "code",
   "execution_count": 2,
   "id": "19d75a3e-04e2-44fd-9780-de0f57467dc1",
   "metadata": {},
   "outputs": [],
   "source": [
    "# for example\n",
    "s = \"Data Science Course from pw\""
   ]
  },
  {
   "cell_type": "code",
   "execution_count": 5,
   "id": "937a4344-3488-4612-8e6c-9f6883121595",
   "metadata": {},
   "outputs": [
    {
     "data": {
      "text/plain": [
       "'Data Sci'"
      ]
     },
     "execution_count": 5,
     "metadata": {},
     "output_type": "execute_result"
    }
   ],
   "source": [
    "s[0:8]"
   ]
  },
  {
   "cell_type": "code",
   "execution_count": 6,
   "id": "b4081a3c-e47e-428a-82ff-5d7faf894c77",
   "metadata": {},
   "outputs": [
    {
     "data": {
      "text/plain": [
       "'t ce'"
      ]
     },
     "execution_count": 6,
     "metadata": {},
     "output_type": "execute_result"
    }
   ],
   "source": [
    "s[2:10:2]"
   ]
  },
  {
   "cell_type": "code",
   "execution_count": 7,
   "id": "ec37b31e-8cd0-4902-b619-e2876c58f1eb",
   "metadata": {},
   "outputs": [
    {
     "data": {
      "text/plain": [
       "'wp morf esruoC ecneicS ataD'"
      ]
     },
     "execution_count": 7,
     "metadata": {},
     "output_type": "execute_result"
    }
   ],
   "source": [
    "s[::-1]  #reverse a string"
   ]
  },
  {
   "cell_type": "code",
   "execution_count": 8,
   "id": "dc44ef93-feea-474c-aafd-956706e3ef39",
   "metadata": {},
   "outputs": [
    {
     "data": {
      "text/plain": [
       "' from p'"
      ]
     },
     "execution_count": 8,
     "metadata": {},
     "output_type": "execute_result"
    }
   ],
   "source": [
    "s[-8 : -1]"
   ]
  },
  {
   "cell_type": "markdown",
   "id": "1f4b99f5-752d-4bbc-9646-6cd7b89c3a09",
   "metadata": {},
   "source": [
    "2. Explain the key features of list in python"
   ]
  },
  {
   "cell_type": "raw",
   "id": "3fcd859c-1ae5-4d4c-b4ba-61a9e49529f6",
   "metadata": {},
   "source": [
    "List in python are used to store ordered collection of different type of elements.\n",
    "List can have heterogeneous elements.\n",
    "List store elements in square brackets -> [].\n",
    "List are mutable -> means can be changed after formation.\n",
    "List are of Dynamic Size and variable length.\n",
    "List can add, remove, or modify elements within a list using indexing and slicing.\n",
    "List comphrension - Python provides a concise way to create lists using list comprehensions, which can be used to generate lists based on existing lists or other iterables.\n",
    "List method of manipulation - append(), extend(), insert(), remove(), pop(), clear(), index(), count(), sort(), and reverse().\n",
    "Lists can contain other lists as elements, allowing the creation of multi-dimensional arrays or matrices."
   ]
  },
  {
   "cell_type": "markdown",
   "id": "823bc799-5a67-49d6-84eb-7e701bb37e04",
   "metadata": {},
   "source": [
    "3. Describe how to access, modify, and delete elements in a list with examples."
   ]
  },
  {
   "cell_type": "code",
   "execution_count": 9,
   "id": "602685c1-5024-4b6d-92b7-db2af5a1052f",
   "metadata": {},
   "outputs": [],
   "source": [
    "#for example\n",
    "lis = [2, 4.5, 'apple' , True, 4+5j, \"banana\"]"
   ]
  },
  {
   "cell_type": "code",
   "execution_count": 10,
   "id": "5a87f001-2d89-46f6-b241-9d202ea2fa83",
   "metadata": {},
   "outputs": [
    {
     "data": {
      "text/plain": [
       "'apple'"
      ]
     },
     "execution_count": 10,
     "metadata": {},
     "output_type": "execute_result"
    }
   ],
   "source": [
    "lis[2]"
   ]
  },
  {
   "cell_type": "code",
   "execution_count": 11,
   "id": "6d79bf39-db9c-490c-86fe-c0712d0e4789",
   "metadata": {},
   "outputs": [],
   "source": [
    "lis[1] = 90"
   ]
  },
  {
   "cell_type": "code",
   "execution_count": 12,
   "id": "e497406b-56c7-4f32-a026-c1de0d415a7c",
   "metadata": {},
   "outputs": [
    {
     "data": {
      "text/plain": [
       "[2, 90, 'apple', True, (4+5j), 'banana']"
      ]
     },
     "execution_count": 12,
     "metadata": {},
     "output_type": "execute_result"
    }
   ],
   "source": [
    "lis"
   ]
  },
  {
   "cell_type": "code",
   "execution_count": 13,
   "id": "f2e5d6f4-c0c7-4683-87bf-477f4bc4a67d",
   "metadata": {},
   "outputs": [
    {
     "data": {
      "text/plain": [
       "[2, 90, 'apple', True, (4+5j), 'banana', 100000]"
      ]
     },
     "execution_count": 13,
     "metadata": {},
     "output_type": "execute_result"
    }
   ],
   "source": [
    "lis.append(100000)\n",
    "lis"
   ]
  },
  {
   "cell_type": "code",
   "execution_count": 14,
   "id": "4dd83238-f641-4a2f-8a7b-7a53c4054e9f",
   "metadata": {},
   "outputs": [
    {
     "data": {
      "text/plain": [
       "[90, 'apple', True, (4+5j), 'banana', 100000]"
      ]
     },
     "execution_count": 14,
     "metadata": {},
     "output_type": "execute_result"
    }
   ],
   "source": [
    "lis.remove(2)\n",
    "lis"
   ]
  },
  {
   "cell_type": "code",
   "execution_count": 15,
   "id": "8875a890-5809-47d4-98b0-c452ad02d80b",
   "metadata": {},
   "outputs": [],
   "source": [
    "del lis  #deleting the list"
   ]
  },
  {
   "cell_type": "code",
   "execution_count": 16,
   "id": "c2243a42-dd64-433e-bf44-d6528210b974",
   "metadata": {},
   "outputs": [
    {
     "ename": "NameError",
     "evalue": "name 'lis' is not defined",
     "output_type": "error",
     "traceback": [
      "\u001b[0;31m---------------------------------------------------------------------------\u001b[0m",
      "\u001b[0;31mNameError\u001b[0m                                 Traceback (most recent call last)",
      "Cell \u001b[0;32mIn[16], line 1\u001b[0m\n\u001b[0;32m----> 1\u001b[0m \u001b[43mlis\u001b[49m\n",
      "\u001b[0;31mNameError\u001b[0m: name 'lis' is not defined"
     ]
    }
   ],
   "source": [
    "lis"
   ]
  },
  {
   "cell_type": "markdown",
   "id": "59cbc63c-bd30-4c49-98ff-285cc34b0fba",
   "metadata": {},
   "source": [
    "4. Compare and constrast list and tuple with example"
   ]
  },
  {
   "cell_type": "raw",
   "id": "84f9eb65-cb98-438d-8707-f5f683c3601e",
   "metadata": {},
   "source": [
    " Feature                                    List                                                  Tuple\n",
    "\n",
    "Mutability                             Mutable(can be modified)                            Immutable(can't be modified)\n",
    "Syntax                                   Defined under []                                    Defined under ()\n",
    "Performance                           Slower due to mutability                               Faster as immuable\n",
    "Memory Consumption                           more                                                  less\n",
    "Use case                            for collection that can change                         for fixed  collection of data\n",
    "method available                    append(), remove(), sort(), etc                         count(), index(), etc\n",
    "iteration                            supported and slightly slower                          supported and slightly faster\n",
    "                                                                                                     "
   ]
  },
  {
   "cell_type": "code",
   "execution_count": 17,
   "id": "4773058e-17a3-470a-80c5-6536315afcf6",
   "metadata": {},
   "outputs": [
    {
     "data": {
      "text/plain": [
       "[1, 2, 'apple', 3.4, True]"
      ]
     },
     "execution_count": 17,
     "metadata": {},
     "output_type": "execute_result"
    }
   ],
   "source": [
    "#LIST\n",
    "lis = [1,2,'apple', 3.4, True]\n",
    "lis"
   ]
  },
  {
   "cell_type": "code",
   "execution_count": 18,
   "id": "9c3d08bf-7d6a-492b-96f5-9bd2a18cdc8a",
   "metadata": {},
   "outputs": [
    {
     "data": {
      "text/plain": [
       "(1, 2, 'apple', 3.4, True)"
      ]
     },
     "execution_count": 18,
     "metadata": {},
     "output_type": "execute_result"
    }
   ],
   "source": [
    "#TUPLE\n",
    "tup = (1,2,'apple', 3.4, True)\n",
    "tup"
   ]
  },
  {
   "cell_type": "markdown",
   "id": "f9c57a37-758c-4fc6-9230-5bac031dcdde",
   "metadata": {},
   "source": [
    "5. Describe the key feature of set and provide example of their use case"
   ]
  },
  {
   "cell_type": "raw",
   "id": "b491ee30-042f-4c5f-a071-8e4cc1dbbbcf",
   "metadata": {},
   "source": [
    "Unordered: Sets do not maintain any particular order of elements. The elements may appear in a different order each time you access the set.\n",
    "No Duplicate Elements: Sets automatically remove duplicate elements. \n",
    "Mutable:Sets are mutable, meaning you can add, remove, or update elements after the set is created. However, the elements themselves must be immutable (e.g., integers, strings, tuples).\n",
    "Set Operations: Sets support common mathematical set operations like union, intersection, difference, and symmetric difference, which are useful for comparing and combining sets of data.\n",
    "Efficient Membership Testing: Sets provide a highly efficient way to test for membership (i.e., to check if an item is in the set), usually with average time complexity of O(1).\n",
    "Defined Using Curly Braces: Sets are defined using curly braces {} or by using the set() function.\n"
   ]
  },
  {
   "cell_type": "code",
   "execution_count": 19,
   "id": "b80441cb-8b90-4552-ba30-97ee8afe7219",
   "metadata": {},
   "outputs": [
    {
     "name": "stdout",
     "output_type": "stream",
     "text": [
      "{1, 2, 3, 4}\n",
      "False\n"
     ]
    }
   ],
   "source": [
    "#for example\n",
    "my_set = {1, 2, 3, 4}\n",
    "print(my_set)\n",
    "print(5 in my_set)  "
   ]
  },
  {
   "cell_type": "markdown",
   "id": "c6df77d2-0ee8-40f7-b803-5dd42f2358dc",
   "metadata": {},
   "source": [
    "6. Discuss the use case of tuple and set in Python Programming"
   ]
  },
  {
   "cell_type": "raw",
   "id": "92d3cc06-8313-43fd-819a-2900617a22d8",
   "metadata": {},
   "source": [
    "\n",
    "Aspect\t                          Tuple\t                                                        Set\n",
    "Mutability\t         Immutable (cannot be changed after creation)\t                  Mutable (can be changed, but elements must be unique)\n",
    "Use Case 1\t                 Immutable Data Storage\t                                       Removing Duplicates\n",
    "Example 1\t             Storing coordinates: coordinates = (10.0, 20.0)\t          Converting a list to a set: unique_elements = set(my_list)\n",
    "Use Case 2\t              Returning Multiple Values from a Function\t                            Efficient Membership Testing\n",
    "Use Case 3\t                    Using as Dictionary Keys\t                          Set Operations (Union, Intersection, Difference)\n",
    "Example 3\t           location_data = {(35.6895, 139.6917): \"Tokyo\"}\t                     intersection = set_a & set_b\n",
    "Use Case 4\t                 Packing and Unpacking\t                                 Data Deduplication in Large Datasets\n",
    "Example 4\t                       a, b = b, a\t                                          unique_user_ids = set(user_ids)\n",
    "Use Case 5\t              Data Integrity (ensuring data is not altered)\t            Checking for Commonality between Collections\n",
    "Example 5\t            Passing config to function: process_data(config)\t          common_friends = user1_friends & user2_friends"
   ]
  },
  {
   "cell_type": "markdown",
   "id": "0ed70c31-d5ab-4ebe-824d-4386c8650f5b",
   "metadata": {},
   "source": [
    "7. How to add, modify, delete item in a dictionary with examples"
   ]
  },
  {
   "cell_type": "code",
   "execution_count": 20,
   "id": "b5f322ef-5a6a-44cc-89da-25d5fb3fd4f0",
   "metadata": {},
   "outputs": [
    {
     "name": "stdout",
     "output_type": "stream",
     "text": [
      "{'name': 'apple', 'age': 25}\n"
     ]
    }
   ],
   "source": [
    "# Creating an empty dictionary\n",
    "my_dict = {}\n",
    "\n",
    "# Adding a new key-value pair\n",
    "my_dict['name'] = 'apple'\n",
    "my_dict['age'] = 25\n",
    "\n",
    "print(my_dict)  \n"
   ]
  },
  {
   "cell_type": "code",
   "execution_count": 21,
   "id": "fcc36abe-97bf-4bce-ac0a-56b52160139b",
   "metadata": {},
   "outputs": [
    {
     "name": "stdout",
     "output_type": "stream",
     "text": [
      "{'name': 'apple', 'age': 26}\n"
     ]
    }
   ],
   "source": [
    "# Modifying the value associated with the key 'age'\n",
    "my_dict['age'] = 26\n",
    "\n",
    "print(my_dict) \n"
   ]
  },
  {
   "cell_type": "code",
   "execution_count": 22,
   "id": "ad20b171-4b5f-4ce9-b07e-6bf7173ff7bb",
   "metadata": {},
   "outputs": [
    {
     "name": "stdout",
     "output_type": "stream",
     "text": [
      "{'name': 'apple'}\n"
     ]
    }
   ],
   "source": [
    "# Deleting the key-value pair with key 'age'\n",
    "del my_dict['age']\n",
    "\n",
    "print(my_dict)"
   ]
  },
  {
   "cell_type": "code",
   "execution_count": 23,
   "id": "f720f0c6-849c-44ad-b85b-29e7b98a1777",
   "metadata": {},
   "outputs": [
    {
     "name": "stdout",
     "output_type": "stream",
     "text": [
      "{}\n"
     ]
    }
   ],
   "source": [
    "# Deleting all items\n",
    "my_dict.clear()\n",
    "\n",
    "print(my_dict) "
   ]
  },
  {
   "cell_type": "markdown",
   "id": "1fe855ff-83df-4c21-9e2a-95d889f12c33",
   "metadata": {},
   "source": [
    "8. Discuss the importance of dictionary keys being immutable with example"
   ]
  },
  {
   "cell_type": "code",
   "execution_count": null,
   "id": "f9607f1d-6d27-4f1f-bc67-94dcf35a96b6",
   "metadata": {},
   "outputs": [],
   "source": [
    "Hashing Dependence:\n",
    "    Dictionary keys must be immutable because dictionaries rely on the hash values of keys to quickly access values. Mutable objects can change their hash value, breaking the dictionary's functionality.\n",
    "Consistency: Immutable keys ensure the integrity and reliability of the dictionary. Once a key-value pair is added, it remains accessible, and the key does not change unexpectedly.\n",
    "Immutable Types: Common immutable types include integers, strings, and tuples, which are safe and appropriate to use as dictionary keys."
   ]
  }
 ],
 "metadata": {
  "kernelspec": {
   "display_name": "Python 3 (ipykernel)",
   "language": "python",
   "name": "python3"
  },
  "language_info": {
   "codemirror_mode": {
    "name": "ipython",
    "version": 3
   },
   "file_extension": ".py",
   "mimetype": "text/x-python",
   "name": "python",
   "nbconvert_exporter": "python",
   "pygments_lexer": "ipython3",
   "version": "3.10.8"
  }
 },
 "nbformat": 4,
 "nbformat_minor": 5
}
